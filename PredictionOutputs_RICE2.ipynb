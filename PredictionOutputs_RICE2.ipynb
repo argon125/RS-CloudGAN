{
 "cells": [
  {
   "cell_type": "code",
   "execution_count": null,
   "id": "45e33ab7-49c8-4195-a98b-ceb942f25272",
   "metadata": {
    "executionInfo": {
     "elapsed": 6251,
     "status": "ok",
     "timestamp": 1678385921662,
     "user": {
      "displayName": "Arrun Sivasubramanian",
      "userId": "13149765271929798364"
     },
     "user_tz": -330
    },
    "id": "45e33ab7-49c8-4195-a98b-ceb942f25272"
   },
   "outputs": [],
   "source": [
    "# example of pix2pix gan for satellite to map image-to-image translation\n",
    "import numpy as np\n",
    "from keras.optimizers import Adam\n",
    "from keras.initializers import RandomNormal\n",
    "from keras.models import *\n",
    "from keras.layers import *\n",
    "import os\n",
    "import matplotlib.pyplot as plt\n",
    "from PIL import Image\n",
    "import tensorflow as tf\n",
    "import cv2"
   ]
  },
  {
   "cell_type": "markdown",
   "id": "2f9a0f5f-4e95-41c8-a814-733a831d1aab",
   "metadata": {},
   "source": [
    "## DCP_Predictions"
   ]
  },
  {
   "cell_type": "code",
   "execution_count": null,
   "id": "23872d92-92b8-4773-b3cc-5a8cd9fc39ba",
   "metadata": {},
   "outputs": [],
   "source": [
    "def guided_filter(p, I, r, eps):\n",
    "    mean_p = cv2.boxFilter(p, -1, (r, r))\n",
    "    mean_I = cv2.boxFilter(I, -1, (r, r))\n",
    "    mean_Ip = cv2.boxFilter(I * p, -1, (r, r))\n",
    "    cov_Ip = mean_Ip - mean_I * mean_p\n",
    "\n",
    "    mean_II = cv2.boxFilter(I * I, -1, (r, r))\n",
    "    var_I = mean_II - mean_I * mean_I\n",
    "\n",
    "    a = cov_Ip / (var_I + eps)\n",
    "    b = mean_p - a * mean_I\n",
    "\n",
    "    mean_a = cv2.boxFilter(a, -1, (r, r))\n",
    "    mean_b = cv2.boxFilter(b, -1, (r, r))\n",
    "\n",
    "    q = mean_a * I + mean_b\n",
    "    return q\n",
    "\n",
    "def dark_channel(im, size):\n",
    "    b, g, r = cv2.split(im)\n",
    "    dc = cv2.min(cv2.min(r, g), b)\n",
    "    kernel = cv2.getStructuringElement(cv2.MORPH_RECT, (size, size))\n",
    "    dark = cv2.erode(dc, kernel)\n",
    "    return dark\n",
    "\n",
    "def atmospheric_light(im, dark):\n",
    "    [h, w] = im.shape[:2]\n",
    "    imsz = h * w\n",
    "    numpx = int(max(imsz / 1000, 1))\n",
    "    darkvec = dark.reshape(imsz, 1)\n",
    "    imvec = im.reshape(imsz, 3)\n",
    "\n",
    "    indices = darkvec.argsort()\n",
    "    indices = indices[imsz - numpx::]\n",
    "\n",
    "    atmsum = np.zeros([1, 3])\n",
    "    for ind in range(1, numpx):\n",
    "        atmsum = atmsum + imvec[indices[ind]]\n",
    "\n",
    "    A = atmsum / numpx\n",
    "    return A\n",
    "\n",
    "def transmission_estimate(im, A, sz):\n",
    "    omega = 0.95\n",
    "    im3 = np.empty(im.shape, im.dtype)\n",
    "\n",
    "    for ind in range(0, 3):\n",
    "        im3[:, :, ind] = im[:, :, ind] / A[0, ind]\n",
    "\n",
    "    transmission = 1 - omega * dark_channel(im3, sz)\n",
    "    return transmission\n",
    "\n",
    "def transmission_refine(im, et):\n",
    "    im = np.uint8(im * 255)  # Convert image to 8-bit depth\n",
    "    gray = cv2.cvtColor(im, cv2.COLOR_BGR2GRAY)\n",
    "    gray = np.float64(gray) / 255\n",
    "    r = 60\n",
    "    eps = 0.0001\n",
    "    t = guided_filter(gray, et, r, eps)\n",
    "    return t\n",
    "\n",
    "def recover(im, t, A, tx=0.1):\n",
    "    res = np.empty(im.shape, im.dtype)\n",
    "    t = cv2.max(t, tx)\n",
    "\n",
    "    for ind in range(0, 3):\n",
    "        res[:, :, ind] = (im[:, :, ind] - A[0, ind]) / t + A[0, ind]\n",
    "\n",
    "    return res\n",
    "\n",
    "def cloud_removal(im):\n",
    "    im = np.array(im, dtype=np.float64) / 255\n",
    "\n",
    "    dark = dark_channel(im, 15)\n",
    "    A = atmospheric_light(im, dark)\n",
    "    te = transmission_estimate(im, A, 15)\n",
    "    t = transmission_refine(im, te)\n",
    "    recovered = recover(im, t, A)\n",
    "\n",
    "    return recovered"
   ]
  },
  {
   "cell_type": "code",
   "execution_count": null,
   "id": "b7895e60-5c3f-41f0-bfa6-94e9845b7f23",
   "metadata": {},
   "outputs": [],
   "source": [
    "cloudy_path = \"C:/Users/ArrunPersonal/Codes/ISRO_GAN/PostComments_NewWeights/RICE2_TestImages/cloudy_image\"\n",
    "gt_path = \"C:/Users/ArrunPersonal/Codes/ISRO_GAN/PostComments_NewWeights/RICE2_TestImages/ground_truth\"\n",
    "\n",
    "test_clear_imgs = []\n",
    "DCP_preds = []\n",
    "for i,j in zip(os.listdir(cloudy_path),os.listdir(gt_path)):\n",
    "    os.chdir(cloudy_path)\n",
    "    inp_img = cv2.imread(os.path.join(cloudy_path, i))\n",
    "    os.chdir(gt_path)\n",
    "    gt_img = cv2.imread(os.path.join(gt_path, j))\n",
    "    test_clear_imgs.append(gt_img[:,:,::-1])\n",
    "    pred = cloud_removal(inp_img)\n",
    "    DCP_preds.append(pred[:,:,::-1])"
   ]
  },
  {
   "cell_type": "markdown",
   "id": "gUPxB3LAwMwK",
   "metadata": {
    "id": "gUPxB3LAwMwK"
   },
   "source": [
    "## P2P Predictions"
   ]
  },
  {
   "cell_type": "code",
   "execution_count": null,
   "id": "3902213f-a577-4337-bf28-970096c2c47e",
   "metadata": {},
   "outputs": [],
   "source": [
    "input_size = 512\n",
    "test_cloud_imgs = []\n",
    "test_clear_imgs = []\n",
    "test_cloud_dir = \"C:/Users/ArrunPersonal/Codes/ISRO_GAN/PostComments_NewWeights/RICE2_TestImages/cloudy_image\"\n",
    "test_clear_dir = \"C:/Users/ArrunPersonal/Codes/ISRO_GAN/PostComments_NewWeights/RICE2_TestImages/ground_truth\"\n",
    "names = []\n",
    "for i in range(len(os.listdir(test_cloud_dir))):\n",
    "    name = os.listdir(test_cloud_dir)[i]\n",
    "    names.append(name)\n",
    "    os.chdir(test_cloud_dir)\n",
    "    test_cloud_imgs.append(np.array(Image.open(name))/255) \n",
    "    os.chdir(test_clear_dir)\n",
    "    test_clear_imgs.append(np.array(Image.open(name))/255) "
   ]
  },
  {
   "cell_type": "code",
   "execution_count": null,
   "id": "c652133e-9996-4661-bdcb-4ab0c7d1bb35",
   "metadata": {},
   "outputs": [],
   "source": [
    "test_cloud_imgs = np.array(test_cloud_imgs)\n",
    "test_clear_imgs = np.array(test_clear_imgs)"
   ]
  },
  {
   "cell_type": "code",
   "execution_count": null,
   "id": "5KALPxsQqQYH",
   "metadata": {
    "colab": {
     "base_uri": "https://localhost:8080/"
    },
    "executionInfo": {
     "elapsed": 51419,
     "status": "ok",
     "timestamp": 1678385981681,
     "user": {
      "displayName": "Arrun Sivasubramanian",
      "userId": "13149765271929798364"
     },
     "user_tz": -330
    },
    "id": "5KALPxsQqQYH",
    "outputId": "1c7ddf28-938d-4aa3-ed8a-1ff49da8cd9c"
   },
   "outputs": [],
   "source": [
    "p2p_model = tf.keras.models.load_model(\"C:/Users/ArrunPersonal/Codes/ISRO_GAN/OldRICEModels/RICEandLandSat8models/RICE2_Models/Pix2PixGAN_RICE2_Weights.h5\")\n",
    "p2p_preds = p2p_model.predict(test_cloud_imgs,batch_size = 1)\n",
    "del p2p_model"
   ]
  },
  {
   "cell_type": "markdown",
   "id": "b2b3b237-5cd5-404a-a767-f6410d896596",
   "metadata": {},
   "source": [
    "## CloudGAN Model"
   ]
  },
  {
   "cell_type": "code",
   "execution_count": null,
   "id": "9fc4a1f1-3183-4141-9e5a-8b3f58feaf00",
   "metadata": {},
   "outputs": [],
   "source": [
    "# pixel shuffle \n",
    "def pixel_shuffle(scale):\n",
    "    '''\n",
    "    This function implements pixel shuffling.\n",
    "    ATTENTION: the scale should be bigger than 2, otherwise just returns the input.\n",
    "    '''\n",
    "    if scale > 1:\n",
    "        return lambda x: tf.nn.depth_to_space(x, scale)\n",
    "    else:\n",
    "        return lambda x:x"
   ]
  },
  {
   "cell_type": "code",
   "execution_count": null,
   "id": "72a00024-e4b6-4a52-b4e4-4ae6f1ca8ba1",
   "metadata": {},
   "outputs": [],
   "source": [
    "def add_down_block(x_inp, filters, kernel_size=(3, 3), padding=\"same\", strides=1,r=False):\n",
    "    x = Conv2D(filters, kernel_size, padding=padding, strides=strides)(x_inp)\n",
    "    x = BatchNormalization()(x)\n",
    "    x = Activation('relu')(x)\n",
    "    x = Conv2D(filters, kernel_size, padding=padding, strides=strides)(x)\n",
    "    x = BatchNormalization()(x)\n",
    "    if r:\n",
    "        # if r=True then we import an (1X1) Conv2D after input layer \n",
    "        # in order the dimensions of 2 tensors coincide.\n",
    "        x_inp = Conv2D(filters,(1,1), padding=padding, strides=strides)(x_inp)\n",
    "    x = Add()([x,x_inp])\n",
    "    return x\n",
    "\n",
    "def add_up_block(x_inp,skip,filters, kernel_size=(3, 3), padding=\"same\", strides=1,upscale_factor=2):\n",
    "    x = pixel_shuffle(scale=upscale_factor)(x_inp)\n",
    "    x = Concatenate()([x, skip])\n",
    "    x = BatchNormalization()(x)\n",
    "    x = Conv2D(filters, kernel_size, padding=padding, strides=strides)(x)\n",
    "    x = Activation('relu')(x)\n",
    "    x = Conv2D(filters, kernel_size, padding=padding, strides=strides)(x)\n",
    "    x = Activation('relu')(x)\n",
    "    x = Activation('relu')(x)\n",
    "    return x\n",
    "\n",
    "def add_bottleneck(x_inp,filters, kernel_size=(3, 3), padding=\"same\", strides=1):\n",
    "    x = Conv2D(filters, kernel_size, padding=padding, strides=strides)(x_inp)\n",
    "    x = Activation('relu')(x)\n",
    "    return x"
   ]
  },
  {
   "cell_type": "code",
   "execution_count": null,
   "id": "e9bb2293-bcbe-491e-a248-8f6d19adbd1f",
   "metadata": {},
   "outputs": [],
   "source": [
    "def CloudGAN():\n",
    "    \"\"\"\n",
    "      Implementing with Keras the Robust UNet Architecture as proposed by\n",
    "      Xiaodan Hu, Mohamed A. Naiel, Alexander Wong, Mark Lamm, Paul Fieguth\n",
    "      in \"RUNet: A Robust UNet Architecture for Image Super-Resolution\"\n",
    "    \"\"\"\n",
    "    inputs = Input((input_size,input_size, 3))\n",
    "    \n",
    "    \n",
    "    down_1 = Conv2D(64,(7,7), padding=\"same\", strides=1)(inputs)\n",
    "    down_1 = BatchNormalization()(down_1)\n",
    "    down_1 = Activation('relu')(down_1)\n",
    "    \n",
    "    down_2 = MaxPool2D(pool_size=(2,2))(down_1)\n",
    "    down_2 = add_down_block(down_2,64)\n",
    "    down_2 = add_down_block(down_2,64)\n",
    "    down_2 = add_down_block(down_2,64)\n",
    "    down_2 = add_down_block(down_2,128,r=True)\n",
    "    \n",
    "    down_3 = MaxPool2D(pool_size=(2, 2),strides=2)(down_2)\n",
    "    down_3 = add_down_block(down_3,128)\n",
    "    down_3 = add_down_block(down_3,128)\n",
    "    down_3 = add_down_block(down_3,128)\n",
    "    down_3 = add_down_block(down_3,256,r=True)\n",
    "    \n",
    "    down_4 = MaxPool2D(pool_size=(2, 2))(down_3)\n",
    "    down_4 = add_down_block(down_4,256)\n",
    "    down_4 = add_down_block(down_4,256)\n",
    "    down_4 = add_down_block(down_4,256)\n",
    "    down_4 = add_down_block(down_4,256)\n",
    "    down_4 = add_down_block(down_4,256)\n",
    "    down_4 = add_down_block(down_4,512,r=True) \n",
    "    \n",
    "    down_5 = MaxPool2D(pool_size=(2, 2))(down_4)\n",
    "    down_5 = add_down_block(down_5,512)\n",
    "    down_5 = add_down_block(down_5,512)\n",
    "    down_5 = BatchNormalization()(down_5)\n",
    "    down_5 = Activation('relu')(down_5)\n",
    "    \n",
    "    \n",
    "    bn_1 = add_bottleneck(down_5, 1024)\n",
    "    bn_2 = add_bottleneck(bn_1, 512)\n",
    "    \n",
    "    up_1 = add_up_block(bn_2,down_5, 512,upscale_factor=1)\n",
    "    up_2 = add_up_block(up_1,down_4, 384,upscale_factor=2)\n",
    "    up_3 = add_up_block(up_2,down_3, 256,upscale_factor=2)\n",
    "    up_4 = add_up_block(up_3,down_2, 96,upscale_factor=2) \n",
    "    \n",
    "    up_5 = pixel_shuffle(scale=2)(up_4)\n",
    "    up_5 = Concatenate()([up_5,down_1])\n",
    "    up_5 = Conv2D(99,(3,3), padding=\"same\", strides=1)(up_5)\n",
    "    up_5 = Activation('relu')(up_5)\n",
    "    up_5 = Conv2D(99,(3,3), padding=\"same\", strides=1)(up_5)\n",
    "    up_5 = Activation('relu')(up_5)\n",
    "   \n",
    "    outputs = Conv2D(3,(1,1), padding=\"same\")(up_5)\n",
    "    model = Model(inputs, outputs)\n",
    "    return model"
   ]
  },
  {
   "cell_type": "markdown",
   "id": "c63cfaf0-e580-47d5-8fd9-255ae5b8f3e6",
   "metadata": {
    "tags": []
   },
   "source": [
    "## CloudGAN Predictions"
   ]
  },
  {
   "cell_type": "code",
   "execution_count": null,
   "id": "145f53bb-dd6c-4e8c-86e2-525485d8b056",
   "metadata": {},
   "outputs": [],
   "source": [
    "CloudGAN_model = CloudGAN()\n",
    "CloudGAN_model.load_weights('C:/Users/ArrunPersonal/Codes/ISRO_GAN/OldRICEModels/RICEandLandSat8models/RICE2_Models/CloudGAN_rice2.h5')\n",
    "CloudGAN_model_preds = CloudGAN_model.predict(test_cloud_imgs,batch_size = 1)\n",
    "del CloudGAN_model"
   ]
  },
  {
   "cell_type": "markdown",
   "id": "AM-py-i3wPoZ",
   "metadata": {
    "id": "AM-py-i3wPoZ"
   },
   "source": [
    "## DeCloud GAN Predictions"
   ]
  },
  {
   "cell_type": "code",
   "execution_count": null,
   "id": "0MEEwrS5jvWr",
   "metadata": {
    "executionInfo": {
     "elapsed": 22,
     "status": "ok",
     "timestamp": 1678385981683,
     "user": {
      "displayName": "Arrun Sivasubramanian",
      "userId": "13149765271929798364"
     },
     "user_tz": -330
    },
    "id": "0MEEwrS5jvWr"
   },
   "outputs": [],
   "source": [
    "input_size = 512\n",
    "batch_size = 4"
   ]
  },
  {
   "cell_type": "code",
   "execution_count": null,
   "id": "6a_Dkxt4wFMG",
   "metadata": {
    "colab": {
     "base_uri": "https://localhost:8080/"
    },
    "executionInfo": {
     "elapsed": 692,
     "status": "ok",
     "timestamp": 1678385982356,
     "user": {
      "displayName": "Arrun Sivasubramanian",
      "userId": "13149765271929798364"
     },
     "user_tz": -330
    },
    "id": "6a_Dkxt4wFMG",
    "outputId": "e07ff2a4-f3a1-4ced-eea5-e92d15a68708"
   },
   "outputs": [],
   "source": [
    "def define_discriminator(image_shape):\n",
    "\t# weight initialization\n",
    "\tinit = RandomNormal(stddev=0.02)\n",
    "\t# source image input\n",
    "\tin_src_image = Input(shape=image_shape)\n",
    "\t# target image input\n",
    "\tin_target_image = Input(shape=image_shape)\n",
    "\t# concatenate images channel-wise\n",
    "\tmerged = Concatenate()([in_src_image, in_target_image])\n",
    "\t# C64\n",
    "\td = Conv2D(64, (4,4), strides=(2,2), padding='same', kernel_initializer=init)(merged)\n",
    "\td = LeakyReLU(alpha=0.2)(d)\n",
    "\t# C128\n",
    "\td = Conv2D(128, (4,4), strides=(2,2), padding='same', kernel_initializer=init)(d)\n",
    "\td = BatchNormalization()(d)\n",
    "\td = LeakyReLU(alpha=0.2)(d)\n",
    "\t# C256\n",
    "\td = Conv2D(256, (4,4), strides=(2,2), padding='same', kernel_initializer=init)(d)\n",
    "\td = BatchNormalization()(d)\n",
    "\td = LeakyReLU(alpha=0.2)(d)\n",
    "\t# C512\n",
    "\td = Conv2D(512, (4,4), strides=(2,2), padding='same', kernel_initializer=init)(d)\n",
    "\td = BatchNormalization()(d)\n",
    "\td = LeakyReLU(alpha=0.2)(d)\n",
    "\t# second last output layer\n",
    "\td = Conv2D(512, (4,4), padding='same', kernel_initializer=init)(d)\n",
    "\td = BatchNormalization()(d)\n",
    "\td = LeakyReLU(alpha=0.2)(d)\n",
    "\t# patch output\n",
    "\td = Conv2D(1, (4,4), padding='same', kernel_initializer=init)(d)\n",
    "\tpatch_out = Activation('sigmoid')(d)\n",
    "\t# define model\n",
    "\tmodel = Model([in_src_image, in_target_image], patch_out)\n",
    "\t# compile model\n",
    "\topt = Adam(lr=0.0002, beta_1=0.5)\n",
    "\tmodel.compile(loss='binary_crossentropy', optimizer=opt, loss_weights=[0.5])\n",
    "\treturn model\n",
    " \n",
    "# define image shape\n",
    "image_shape = (input_size,input_size,3)\n",
    "# create the model\n",
    "model = define_discriminator(image_shape)\n",
    "# summarize the model\n",
    "# model.summary()"
   ]
  },
  {
   "cell_type": "code",
   "execution_count": null,
   "id": "AjScHl2NwUNp",
   "metadata": {
    "executionInfo": {
     "elapsed": 10,
     "status": "ok",
     "timestamp": 1678385982357,
     "user": {
      "displayName": "Arrun Sivasubramanian",
      "userId": "13149765271929798364"
     },
     "user_tz": -330
    },
    "id": "AjScHl2NwUNp"
   },
   "outputs": [],
   "source": [
    "# pixel shuffle \n",
    "def pixel_shuffle(scale):\n",
    "    '''\n",
    "    This function implements pixel shuffling.\n",
    "    ATTENTION: the scale should be bigger than 2, otherwise just returns the input.\n",
    "    '''\n",
    "    if scale > 1:\n",
    "        return lambda x: tf.nn.depth_to_space(x, scale)\n",
    "    else:\n",
    "        return lambda x:x"
   ]
  },
  {
   "cell_type": "code",
   "execution_count": null,
   "id": "-WMpzzZBwdbA",
   "metadata": {
    "executionInfo": {
     "elapsed": 10,
     "status": "ok",
     "timestamp": 1678385982358,
     "user": {
      "displayName": "Arrun Sivasubramanian",
      "userId": "13149765271929798364"
     },
     "user_tz": -330
    },
    "id": "-WMpzzZBwdbA"
   },
   "outputs": [],
   "source": [
    "def add_down_block(x_inp, filters, kernel_size=(3, 3), padding=\"same\", strides=1,r=False):\n",
    "    x = Conv2D(filters, kernel_size, padding=padding, strides=strides)(x_inp)\n",
    "    x = BatchNormalization()(x)\n",
    "    x = Activation('relu')(x)\n",
    "    x = Conv2D(filters, kernel_size, padding=padding, strides=strides)(x)\n",
    "    x = BatchNormalization()(x)\n",
    "    if r:\n",
    "        # if r=True then we import an (1X1) Conv2D after input layer \n",
    "        # in order the dimensions of 2 tensors coincide.\n",
    "        x_inp = Conv2D(filters,(1,1), padding=padding, strides=strides)(x_inp)\n",
    "    x = Add()([x,x_inp])\n",
    "    return x\n",
    "\n",
    "def add_up_block(x_inp,skip,filters, kernel_size=(3, 3), padding=\"same\", strides=1,upscale_factor=2):\n",
    "    x = pixel_shuffle(scale=upscale_factor)(x_inp)\n",
    "    x = Concatenate()([x, skip])\n",
    "    x = BatchNormalization()(x)\n",
    "    x = Conv2D(filters, kernel_size, padding=padding, strides=strides)(x)\n",
    "    x = Activation('relu')(x)\n",
    "    x = Conv2D(filters, kernel_size, padding=padding, strides=strides)(x)\n",
    "    x = Activation('relu')(x)\n",
    "    x = Activation('relu')(x)\n",
    "    return x\n",
    "\n",
    "def add_bottleneck(x_inp,filters, kernel_size=(3, 3), padding=\"same\", strides=1):\n",
    "    x = Conv2D(filters, kernel_size, padding=padding, strides=strides)(x_inp)\n",
    "    x = Activation('relu')(x)\n",
    "    return x"
   ]
  },
  {
   "cell_type": "code",
   "execution_count": null,
   "id": "nZ7wyGOlwugu",
   "metadata": {
    "executionInfo": {
     "elapsed": 10,
     "status": "ok",
     "timestamp": 1678385982358,
     "user": {
      "displayName": "Arrun Sivasubramanian",
      "userId": "13149765271929798364"
     },
     "user_tz": -330
    },
    "id": "nZ7wyGOlwugu"
   },
   "outputs": [],
   "source": [
    "def RUNet():\n",
    "    \"\"\"\n",
    "      Implementing with Keras the Robust UNet Architecture as proposed by\n",
    "      Xiaodan Hu, Mohamed A. Naiel, Alexander Wong, Mark Lamm, Paul Fieguth\n",
    "      in \"RUNet: A Robust UNet Architecture for Image Super-Resolution\"\n",
    "    \"\"\"\n",
    "    inputs = Input((input_size,input_size, 3))\n",
    "    \n",
    "    \n",
    "    down_1 = Conv2D(64,(7,7), padding=\"same\", strides=1)(inputs)\n",
    "    down_1 = BatchNormalization()(down_1)\n",
    "    down_1 = Activation('relu')(down_1)\n",
    "    \n",
    "    down_2 = MaxPool2D(pool_size=(2,2))(down_1)\n",
    "    down_2 = add_down_block(down_2,64)\n",
    "    down_2 = add_down_block(down_2,64)\n",
    "    down_2 = add_down_block(down_2,64)\n",
    "    down_2 = add_down_block(down_2,128,r=True)\n",
    "    \n",
    "    down_3 = MaxPool2D(pool_size=(2, 2),strides=2)(down_2)\n",
    "    down_3 = add_down_block(down_3,128)\n",
    "    down_3 = add_down_block(down_3,128)\n",
    "    down_3 = add_down_block(down_3,128)\n",
    "    down_3 = add_down_block(down_3,256,r=True)\n",
    "    \n",
    "    down_4 = MaxPool2D(pool_size=(2, 2))(down_3)\n",
    "    down_4 = add_down_block(down_4,256)\n",
    "    down_4 = add_down_block(down_4,256)\n",
    "    down_4 = add_down_block(down_4,256)\n",
    "    down_4 = add_down_block(down_4,256)\n",
    "    down_4 = add_down_block(down_4,256)\n",
    "    down_4 = add_down_block(down_4,512,r=True) \n",
    "    \n",
    "    down_5 = MaxPool2D(pool_size=(2, 2))(down_4)\n",
    "    down_5 = add_down_block(down_5,512)\n",
    "    down_5 = add_down_block(down_5,512)\n",
    "    down_5 = BatchNormalization()(down_5)\n",
    "    down_5 = Activation('relu')(down_5)\n",
    "    \n",
    "    \n",
    "    bn_1 = add_bottleneck(down_5, 1024)\n",
    "    bn_2 = add_bottleneck(bn_1, 512)\n",
    "    \n",
    "    up_1 = add_up_block(bn_2,down_5, 512,upscale_factor=1)\n",
    "    up_2 = add_up_block(up_1,down_4, 384,upscale_factor=2)\n",
    "    up_3 = add_up_block(up_2,down_3, 256,upscale_factor=2)\n",
    "    up_4 = add_up_block(up_3,down_2, 96,upscale_factor=2) \n",
    "    \n",
    "    up_5 = pixel_shuffle(scale=2)(up_4)\n",
    "    up_5 = Concatenate()([up_5,down_1])\n",
    "    up_5 = Conv2D(99,(3,3), padding=\"same\", strides=1)(up_5)\n",
    "    up_5 = Activation('relu')(up_5)\n",
    "    up_5 = Conv2D(99,(3,3), padding=\"same\", strides=1)(up_5)\n",
    "    up_5 = Activation('relu')(up_5)\n",
    "   \n",
    "    outputs = Conv2D(3,(1,1), padding=\"same\")(up_5)\n",
    "    model = Model(inputs, outputs)\n",
    "    return model"
   ]
  },
  {
   "cell_type": "code",
   "execution_count": null,
   "id": "FSxiOCgjyLLV",
   "metadata": {
    "colab": {
     "base_uri": "https://localhost:8080/"
    },
    "executionInfo": {
     "elapsed": 146513,
     "status": "ok",
     "timestamp": 1678386128861,
     "user": {
      "displayName": "Arrun Sivasubramanian",
      "userId": "13149765271929798364"
     },
     "user_tz": -330
    },
    "id": "FSxiOCgjyLLV",
    "outputId": "0e666d76-f6fc-4ef2-d042-5e6ffa87dcdb"
   },
   "outputs": [],
   "source": [
    "DeCloud_model = RUNet()\n",
    "DeCloud_model.load_weights('C:/Users/ArrunPersonal/Codes/ISRO_GAN/OldRICEModels/RICEandLandSat8models/RICE2_Models/DeCloudGAN_max_psnr_rice2.h5')\n",
    "DeCloud_preds = DeCloud_model.predict(test_cloud_imgs,batch_size = 1)\n",
    "del DeCloud_model"
   ]
  },
  {
   "cell_type": "markdown",
   "id": "JqGelQXMy6tq",
   "metadata": {
    "id": "JqGelQXMy6tq"
   },
   "source": [
    "## RS_CloudGAN Predictions "
   ]
  },
  {
   "cell_type": "code",
   "execution_count": null,
   "id": "cICyn30GzAAh",
   "metadata": {
    "executionInfo": {
     "elapsed": 835,
     "status": "ok",
     "timestamp": 1678386136392,
     "user": {
      "displayName": "Arrun Sivasubramanian",
      "userId": "13149765271929798364"
     },
     "user_tz": -330
    },
    "id": "cICyn30GzAAh"
   },
   "outputs": [],
   "source": [
    "def encoder_block(input_features,num_filters, filter_size=[3,5,7]):\n",
    "    conv1_1 = Conv2D(num_filters,filter_size[0], padding = 'same',activation = 'relu')(input_features)\n",
    "    conv1_2 = Conv2D(num_filters,filter_size[1], padding = 'same',activation = 'relu')(input_features)\n",
    "    conv1_3 = Conv2D(num_filters,filter_size[2], padding = 'same',activation = 'relu')(input_features)\n",
    "\n",
    "    concat_12 = Concatenate()([conv1_1,conv1_2])\n",
    "    concat_13 = Concatenate()([conv1_2,conv1_3])\n",
    "    concat_23 = Concatenate()([conv1_1,conv1_3])\n",
    "\n",
    "    conv2_1 = Conv2D(num_filters,3, padding = 'same',activation = 'relu')(concat_12)\n",
    "    conv2_2 = Conv2D(num_filters,3, padding = 'same',activation = 'relu')(concat_23)\n",
    "    conv2_3 = Conv2D(num_filters,3, padding = 'same',activation = 'relu')(concat_13)\n",
    "\n",
    "    concat_123 = Concatenate()([conv2_1,conv2_2,conv2_3])\n",
    "    conv_fin = Conv2D(num_filters,3, padding = 'same',activation = 'relu')(concat_123)\n",
    "    maxpool_fin = MaxPool2D(2)(conv_fin)\n",
    "    return maxpool_fin"
   ]
  },
  {
   "cell_type": "code",
   "execution_count": null,
   "id": "PXJq1T5ezT2j",
   "metadata": {
    "executionInfo": {
     "elapsed": 9,
     "status": "ok",
     "timestamp": 1678386138332,
     "user": {
      "displayName": "Arrun Sivasubramanian",
      "userId": "13149765271929798364"
     },
     "user_tz": -330
    },
    "id": "PXJq1T5ezT2j"
   },
   "outputs": [],
   "source": [
    "def decoder_block(input_layer,skip_connection, num_filters,filter_size=[3,5,7]):\n",
    "    convt1_1 = Conv2DTranspose(num_filters, filter_size[0], padding = 'same',activation = 'relu')(input_layer)\n",
    "    convt1_2 = Conv2DTranspose(num_filters, filter_size[1], padding = 'same',activation = 'relu')(input_layer)\n",
    "    convt1_3 = Conv2DTranspose(num_filters, filter_size[2], padding = 'same',activation = 'relu')(input_layer)\n",
    "\n",
    "    concat_12 = Concatenate()([convt1_1,convt1_2])\n",
    "    concat_13 = Concatenate()([convt1_2,convt1_3])\n",
    "    concat_23 = Concatenate()([convt1_1,convt1_3])\n",
    "\n",
    "    conv2_1 = Conv2D(num_filters,3, padding = 'same',activation = 'relu')(concat_12)\n",
    "    conv2_2 = Conv2D(num_filters,3, padding = 'same',activation = 'relu')(concat_23)\n",
    "    conv2_3 = Conv2D(num_filters,3, padding = 'same',activation = 'relu')(concat_13)\n",
    "\n",
    "    concat_123 = Concatenate()([conv2_1,conv2_2,conv2_3,skip_connection])\n",
    "    conv_fin = Conv2D(num_filters,3, padding = 'same',activation = 'relu')(concat_123)\n",
    "    upsampling_fin = UpSampling2D(2)(conv_fin)\n",
    "    \n",
    "    return upsampling_fin"
   ]
  },
  {
   "cell_type": "code",
   "execution_count": null,
   "id": "EUpxR8AxzT5F",
   "metadata": {
    "executionInfo": {
     "elapsed": 8,
     "status": "ok",
     "timestamp": 1678386138333,
     "user": {
      "displayName": "Arrun Sivasubramanian",
      "userId": "13149765271929798364"
     },
     "user_tz": -330
    },
    "id": "EUpxR8AxzT5F"
   },
   "outputs": [],
   "source": [
    "def bottleneck(input_layer,drop = 0.2):\n",
    "    \n",
    "    feature_layer = Conv2D(512,3,padding = 'same',activation = 'linear')(input_layer)\n",
    "    attention_layer = Conv2D(512,3,padding = 'same',activation = 'sigmoid')(feature_layer)\n",
    "    new_input_features = MultiHeadAttention(num_heads=3, key_dim=3, attention_axes=(2, 3))(input_layer,attention_layer)\n",
    "    \n",
    "    batch_norma = BatchNormalization()(new_input_features)\n",
    "    if(drop):\n",
    "        drop = Dropout(drop)(batch_norma)\n",
    "        return drop\n",
    "    return batch_norma"
   ]
  },
  {
   "cell_type": "code",
   "execution_count": null,
   "id": "m0MpTyrjzbKM",
   "metadata": {
    "executionInfo": {
     "elapsed": 2367,
     "status": "ok",
     "timestamp": 1678386140693,
     "user": {
      "displayName": "Arrun Sivasubramanian",
      "userId": "13149765271929798364"
     },
     "user_tz": -330
    },
    "id": "m0MpTyrjzbKM"
   },
   "outputs": [],
   "source": [
    "input_layer = Input((512,512,3))\n",
    "e1 = encoder_block(input_layer,32)\n",
    "e2 = encoder_block(e1,64)\n",
    "e3 = encoder_block(e2,128)\n",
    "e4 = encoder_block(e3,256)\n",
    "e5 = encoder_block(e4,512)\n",
    "b = bottleneck(e5)\n",
    "d1 = decoder_block(b,e5,256)\n",
    "d2 = decoder_block(d1,e4,256)\n",
    "d3 = decoder_block(d2,e3,128)\n",
    "d4 = decoder_block(d3,e2,64)\n",
    "d5 = decoder_block(d4,e1,3)\n",
    "\n",
    "#CR_Net = Model(inputs = input_layer, outputs = d5)"
   ]
  },
  {
   "cell_type": "code",
   "execution_count": null,
   "id": "DddHVWxOCeVb",
   "metadata": {
    "colab": {
     "base_uri": "https://localhost:8080/"
    },
    "executionInfo": {
     "elapsed": 144373,
     "status": "ok",
     "timestamp": 1678386285061,
     "user": {
      "displayName": "Arrun Sivasubramanian",
      "userId": "13149765271929798364"
     },
     "user_tz": -330
    },
    "id": "DddHVWxOCeVb",
    "outputId": "26dbdf7f-4ae2-4cae-d2bb-e4dca36513b3"
   },
   "outputs": [],
   "source": [
    "RS_Cloud_model = Model(inputs = input_layer, outputs = d5)\n",
    "RS_Cloud_model.load_weights('C:/Users/ArrunPersonal/Codes/ISRO_GAN/PostComments_NewWeights/RICE2_weights/RS_CloudGAN_l5_k357_selfattn_bce_max_psnr_rice2.h5')\n",
    "RS_Cloud_preds = RS_Cloud_model.predict(test_cloud_imgs,batch_size = 1)\n",
    "del RS_Cloud_model"
   ]
  },
  {
   "cell_type": "markdown",
   "id": "tiXZowDi0Sqr",
   "metadata": {
    "id": "tiXZowDi0Sqr"
   },
   "source": [
    "## SpA GAN predictions"
   ]
  },
  {
   "cell_type": "code",
   "execution_count": null,
   "id": "mjXteyptAau1",
   "metadata": {
    "id": "mjXteyptAau1"
   },
   "outputs": [],
   "source": [
    "#!pip install attrdict"
   ]
  },
  {
   "cell_type": "code",
   "execution_count": null,
   "id": "_qQL9rGouBRG",
   "metadata": {
    "colab": {
     "base_uri": "https://localhost:8080/"
    },
    "id": "_qQL9rGouBRG",
    "outputId": "a62b51c0-5dac-42b4-c767-879460af2128"
   },
   "outputs": [],
   "source": [
    "# To predict cloudless images for cloudy test images with pretrained model\n",
    "#!python /content/drive/MyDrive/Cloud_Removal_using_SpA_GAN/predict.py --config /content/drive/MyDrive/Cloud_Removal_using_SpA_GAN/config.yml --test_dir /content/drive/MyDrive/ISROCodes/RICE1_TestImages --out_dir /content/drive/MyDrive/ISROCodes/RICE1_Models/SpAGAN_Results_Updated/ReLU_Run --pretrained /content/drive/MyDrive/ISROCodes/RICE1_Models/ReLU_gen_model_epoch_200.pth"
   ]
  },
  {
   "cell_type": "markdown",
   "id": "mtev6Sy1Gs7k",
   "metadata": {
    "id": "mtev6Sy1Gs7k"
   },
   "source": [
    "## Load SpA GAN predicitons"
   ]
  },
  {
   "cell_type": "code",
   "execution_count": null,
   "id": "ikD-vxEdG1Gr",
   "metadata": {
    "executionInfo": {
     "elapsed": 9,
     "status": "ok",
     "timestamp": 1678386285063,
     "user": {
      "displayName": "Arrun Sivasubramanian",
      "userId": "13149765271929798364"
     },
     "user_tz": -330
    },
    "id": "ikD-vxEdG1Gr"
   },
   "outputs": [],
   "source": [
    "SpA_GAN_preds = []\n",
    "os.chdir(\"C:/Users/ArrunPersonal/Codes/ISRO_GAN/OldRICEModels/RICEandLandSat8models/RICE2_Models/SpAGAN_Results/LeakyReLU_Run/cloudless/epoch_0001\")\n",
    "for i in range(len(os.listdir(os.getcwd()))):\n",
    "    im_name = f\"cloudless_{names[i]}\"\n",
    "    SpA_GAN_preds.append(np.array(Image.open(im_name))/255)"
   ]
  },
  {
   "cell_type": "code",
   "execution_count": null,
   "id": "US-JPkabH5cc",
   "metadata": {
    "colab": {
     "base_uri": "https://localhost:8080/"
    },
    "executionInfo": {
     "elapsed": 1005,
     "status": "ok",
     "timestamp": 1678386286061,
     "user": {
      "displayName": "Arrun Sivasubramanian",
      "userId": "13149765271929798364"
     },
     "user_tz": -330
    },
    "id": "US-JPkabH5cc",
    "outputId": "2f89d2cd-12b9-47b9-cb06-b0f4e0436908"
   },
   "outputs": [],
   "source": [
    "SpA_GAN_preds = np.array(SpA_GAN_preds)\n",
    "print(np.shape(SpA_GAN_preds))"
   ]
  },
  {
   "cell_type": "markdown",
   "id": "Hvx5TNpd-Veg",
   "metadata": {
    "id": "Hvx5TNpd-Veg"
   },
   "source": [
    "## Net Preditions"
   ]
  },
  {
   "cell_type": "code",
   "execution_count": null,
   "id": "zOOiwAF4vH2o",
   "metadata": {
    "colab": {
     "base_uri": "https://localhost:8080/",
     "height": 1000,
     "output_embedded_package_id": "1PjZWAa5rPohmIfOXaUjD1uLAsN5sptyS"
    },
    "executionInfo": {
     "elapsed": 14819,
     "status": "ok",
     "timestamp": 1678386304691,
     "user": {
      "displayName": "Arrun Sivasubramanian",
      "userId": "13149765271929798364"
     },
     "user_tz": -330
    },
    "id": "zOOiwAF4vH2o",
    "outputId": "82de2f34-d35a-4513-a0f7-66521d117206"
   },
   "outputs": [],
   "source": [
    "num_imgs = 12\n",
    "for i in range(num_imgs):\n",
    "    plt.figure(figsize = (48,30))\n",
    "    plt.subplot(1,8,1).imshow(np.array(test_cloud_imgs[i],dtype = 'float32'))\n",
    "    plt.title(\"Cloudy Image\",fontsize = 20)\n",
    "    plt.axis('off')\n",
    "    plt.subplot(1,8,2).imshow(np.array(test_clear_imgs[i],dtype = 'float32'))\n",
    "    plt.title(\"Clear GT Image\",fontsize = 20)\n",
    "    plt.axis('off')\n",
    "    plt.subplot(1,8,3).imshow(DCP_preds[i])\n",
    "    plt.title(\"DCP predictions\",fontsize = 20)\n",
    "    plt.axis('off')\n",
    "    plt.subplot(1,8,4).imshow(p2p_preds[i])\n",
    "    plt.title(\"Pix2Pix GAN predictions\",fontsize = 20)\n",
    "    plt.axis('off')\n",
    "    plt.subplot(1,8,5).imshow(CloudGAN_model_preds[i])\n",
    "    plt.title(\"Cloud GAN predictions\",fontsize = 20)\n",
    "    plt.axis('off')\n",
    "    plt.subplot(1,8,6).imshow(SpA_GAN_preds[i])\n",
    "    plt.title(\"SpA GAN predictions\",fontsize = 20)\n",
    "    plt.axis('off')\n",
    "    plt.subplot(1,8,7).imshow(DeCloud_preds[i])\n",
    "    plt.title(\"DeCloud GAN predictions\",fontsize = 20)\n",
    "    plt.axis('off')\n",
    "    plt.subplot(1,8,8).imshow(RS_Cloud_preds[i])\n",
    "    plt.title(\"RS_Cloud GAN predictions\",fontsize = 20)\n",
    "    plt.axis('off')"
   ]
  }
 ],
 "metadata": {
  "colab": {
   "collapsed_sections": [
    "64retaJDFH3D",
    "aBwTwZZPFKyP"
   ],
   "provenance": []
  },
  "gpuClass": "standard",
  "kernelspec": {
   "display_name": "Python 3 (ipykernel)",
   "language": "python",
   "name": "python3"
  },
  "language_info": {
   "codemirror_mode": {
    "name": "ipython",
    "version": 3
   },
   "file_extension": ".py",
   "mimetype": "text/x-python",
   "name": "python",
   "nbconvert_exporter": "python",
   "pygments_lexer": "ipython3",
   "version": "3.9.7"
  }
 },
 "nbformat": 4,
 "nbformat_minor": 5
}
